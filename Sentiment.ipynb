{
 "cells": [
  {
   "cell_type": "code",
   "execution_count": 1,
   "id": "1ff88c63-4401-483e-95ad-c4b8e510d1c3",
   "metadata": {},
   "outputs": [],
   "source": [
    "import pandas as pd\n",
    "import requests\n",
    "from bs4 import BeautifulSoup"
   ]
  },
  {
   "cell_type": "code",
   "execution_count": 2,
   "id": "2ab828b1-f189-471f-993b-9ea72db12bcb",
   "metadata": {},
   "outputs": [
    {
     "name": "stdout",
     "output_type": "stream",
     "text": [
      "Cafef.vn News Scarpped & Saved!\n"
     ]
    }
   ],
   "source": [
    "# Cafe.vn URL\n",
    "url = \"https://cafef.vn/du-lieu/tin-doanh-nghiep/fpt/event.chn\"\n",
    "headers = {\"User-Agent\": \"Mozilla/5.0 (Windows NT 10.0; Win64; x64) AppleWebKit/537.36 (KHTML, like Gecko) Chrome/110.0.0.0 Safari/537.36\"}\n",
    "\n",
    "# Request the page\n",
    "response = requests.get(url, headers = headers)\n",
    "soup = BeautifulSoup(response.text, \"html.parser\")\n",
    "\n",
    "# Find the correct news section  \n",
    "news_section = soup.find(\"div\", id = \"divTopEvents\") # Locate the div containing news\n",
    "\n",
    "# Extract headlines, dates, and links\n",
    "news_data = []\n",
    "if news_section:\n",
    "    items = news_section.find_all(\"li\") # Each news item is inside <li>\n",
    "    for item in items:\n",
    "        title_tag = item.find(\"a\") # Find the news title\n",
    "        date_tag = item.find(\"span\", class_ = \"timeTitle\") # Find the date\n",
    "\n",
    "        if title_tag and date_tag:\n",
    "            title = title_tag.text.strip()\n",
    "            date = date_tag.text.strip()\n",
    "            link = \"https://cafef.vn\" + title_tag[\"href\"] # Full link\n",
    "\n",
    "            news_data.append([date, title, link])\n",
    "\n",
    "# Save to CSV\n",
    "cafe = pd.DataFrame(news_data, columns = [\"date\", \"headline\", \"link\"])\n",
    "cafe.to_csv(\"cafe.csv\", index = False)\n",
    "\n",
    "print (\"Cafef.vn News Scarpped & Saved!\")"
   ]
  },
  {
   "cell_type": "code",
   "execution_count": 3,
   "id": "3f090882-3a26-44ab-9b3f-a12a8cc0ef0c",
   "metadata": {},
   "outputs": [
    {
     "data": {
      "text/html": [
       "<div>\n",
       "<style scoped>\n",
       "    .dataframe tbody tr th:only-of-type {\n",
       "        vertical-align: middle;\n",
       "    }\n",
       "\n",
       "    .dataframe tbody tr th {\n",
       "        vertical-align: top;\n",
       "    }\n",
       "\n",
       "    .dataframe thead th {\n",
       "        text-align: right;\n",
       "    }\n",
       "</style>\n",
       "<table border=\"1\" class=\"dataframe\">\n",
       "  <thead>\n",
       "    <tr style=\"text-align: right;\">\n",
       "      <th></th>\n",
       "      <th>date</th>\n",
       "      <th>headline</th>\n",
       "      <th>link</th>\n",
       "    </tr>\n",
       "  </thead>\n",
       "  <tbody>\n",
       "    <tr>\n",
       "      <th>0</th>\n",
       "      <td>01/03/2025 00:05</td>\n",
       "      <td>Sau Vĩnh Phúc, Khánh Hòa, Bà Rịa - Vũng Tàu, F...</td>\n",
       "      <td>https://cafef.vn/sau-vinh-phuc-khanh-hoa-ba-ri...</td>\n",
       "    </tr>\n",
       "    <tr>\n",
       "      <th>1</th>\n",
       "      <td>27/02/2025 11:32</td>\n",
       "      <td>Thủ tướng triệu tập lãnh đạo T&amp;T, Hoà Phát, Ge...</td>\n",
       "      <td>https://cafef.vn/thu-tuong-trieu-tap-lanh-dao-...</td>\n",
       "    </tr>\n",
       "    <tr>\n",
       "      <th>2</th>\n",
       "      <td>26/02/2025 09:32</td>\n",
       "      <td>FPT bắt tay cùng “ông lớn” Ấn Độ đào tạo kỹ sư...</td>\n",
       "      <td>https://cafef.vn/fpt-bat-tay-cung-ong-lon-an-d...</td>\n",
       "    </tr>\n",
       "    <tr>\n",
       "      <th>3</th>\n",
       "      <td>25/02/2025 15:31</td>\n",
       "      <td>FPT mở chương trình đào tạo nhân lực ngành ô t...</td>\n",
       "      <td>https://cafef.vn/fpt-mo-chuong-trinh-dao-tao-n...</td>\n",
       "    </tr>\n",
       "    <tr>\n",
       "      <th>4</th>\n",
       "      <td>25/02/2025 11:57</td>\n",
       "      <td>FPT 'chơi lớn' tại Nhật Bản: Mua thêm 1 tòa nh...</td>\n",
       "      <td>https://cafef.vn/fpt-choi-lon-tai-nhat-ban-mua...</td>\n",
       "    </tr>\n",
       "  </tbody>\n",
       "</table>\n",
       "</div>"
      ],
      "text/plain": [
       "               date                                           headline  \\\n",
       "0  01/03/2025 00:05  Sau Vĩnh Phúc, Khánh Hòa, Bà Rịa - Vũng Tàu, F...   \n",
       "1  27/02/2025 11:32  Thủ tướng triệu tập lãnh đạo T&T, Hoà Phát, Ge...   \n",
       "2  26/02/2025 09:32  FPT bắt tay cùng “ông lớn” Ấn Độ đào tạo kỹ sư...   \n",
       "3  25/02/2025 15:31  FPT mở chương trình đào tạo nhân lực ngành ô t...   \n",
       "4  25/02/2025 11:57  FPT 'chơi lớn' tại Nhật Bản: Mua thêm 1 tòa nh...   \n",
       "\n",
       "                                                link  \n",
       "0  https://cafef.vn/sau-vinh-phuc-khanh-hoa-ba-ri...  \n",
       "1  https://cafef.vn/thu-tuong-trieu-tap-lanh-dao-...  \n",
       "2  https://cafef.vn/fpt-bat-tay-cung-ong-lon-an-d...  \n",
       "3  https://cafef.vn/fpt-mo-chuong-trinh-dao-tao-n...  \n",
       "4  https://cafef.vn/fpt-choi-lon-tai-nhat-ban-mua...  "
      ]
     },
     "execution_count": 3,
     "metadata": {},
     "output_type": "execute_result"
    }
   ],
   "source": [
    "cafe = pd.read_csv(\"cafe.csv\")\n",
    "\n",
    "cafe.head()"
   ]
  },
  {
   "cell_type": "markdown",
   "id": "cc496570-d15d-414d-825d-f19c30a7a65f",
   "metadata": {},
   "source": [
    "Vietstock"
   ]
  },
  {
   "cell_type": "code",
   "execution_count": 4,
   "id": "5ee57ec4-6fe4-4140-8f73-8ab24e8d447d",
   "metadata": {},
   "outputs": [],
   "source": [
    "from selenium import webdriver\n",
    "from selenium.webdriver.common.by import By\n",
    "from selenium.webdriver.chrome.service import Service\n",
    "from webdriver_manager.chrome import ChromeDriverManager\n",
    "import pandas as pd\n",
    "import time\n",
    "\n",
    "# Set up Selenium WebDriver\n",
    "service = Service(ChromeDriverManager().install())\n",
    "options = webdriver.ChromeOptions()\n",
    "options.add_argument(\"--headless\")  # Run in headless mode (no visible browser)\n",
    "options.add_argument(\"--disable-blink-features=AutomationControlled\")  # Avoid bot detection\n",
    "options.add_argument(\"--no-sandbox\")\n",
    "options.add_argument(\"--disable-dev-shm-usage\")"
   ]
  },
  {
   "cell_type": "code",
   "execution_count": 5,
   "id": "bccca209-b185-4f35-9ad9-c2e152b9de82",
   "metadata": {},
   "outputs": [],
   "source": [
    "# Start WebDriver\n",
    "driver = webdriver.Chrome(service=service, options=options)\n",
    "\n",
    "# Open the Vietstock.vn news page\n",
    "url = \"https://finance.vietstock.vn/FPT/tin-tuc-su-kien.htm\"\n",
    "driver.get(url)\n",
    "\n",
    "# Wait for JavaScript to load the content\n",
    "time.sleep(5)  # Increase if necessary\n",
    "\n",
    "# Extract news items\n",
    "news_data = []\n",
    "articles = driver.find_elements(By.CSS_SELECTOR, \"a.text-link\")  # Locate all news links"
   ]
  },
  {
   "cell_type": "code",
   "execution_count": 6,
   "id": "8fc16e5c-d635-4a5e-8cca-ca1a33e29ead",
   "metadata": {},
   "outputs": [],
   "source": [
    "for article in articles:\n",
    "    spans = article.find_elements(By.TAG_NAME, \"span\")  # Find all <span> inside <a>\n",
    "\n",
    "    if len(spans) >= 2:\n",
    "        title = spans[0].text.strip()  # First span = Headline\n",
    "        date = spans[1].text.strip().replace(\"(\", \"\").replace(\")\", \"\")  # Second span = Date\n",
    "    else:\n",
    "        title = article.text.strip()\n",
    "        date = \"Unknown\"\n",
    "\n",
    "    link = article.get_attribute(\"href\")\n",
    "    if link is None:\n",
    "        link = \"N/A\"\n",
    "    elif not link.startswith(\"http\"):\n",
    "        link = \"https://vietstock.vn\" + link  # Ensure full URL\n",
    "\n",
    "    news_data.append([date, title, link])"
   ]
  },
  {
   "cell_type": "code",
   "execution_count": 7,
   "id": "c64d1a12-4c22-46da-8a88-c71e3660c63c",
   "metadata": {},
   "outputs": [
    {
     "name": "stdout",
     "output_type": "stream",
     "text": [
      "         date                                           headline  \\\n",
      "0  04/03/2025  Phân tích kỹ thuật phiên chiều 04/03: Áp lực b...   \n",
      "1  27/02/2025     FPT Telecom chi gần ngàn tỷ tạm ứng cổ tức 20%   \n",
      "2  25/02/2025  Cuộc đua lợi nhuận VN30: Vinhomes giữ vững ngô...   \n",
      "3  22/02/2025  VN-Index tiến sát 1,300 điểm, cổ phiếu nào đan...   \n",
      "4  18/02/2025  Theo dấu dòng tiền cá mập 18/02: Tự doanh tiếp...   \n",
      "\n",
      "                                                link  \n",
      "0  https://vietstock.vn/2025/03/phan-tich-ky-thua...  \n",
      "1  https://vietstock.vn/2025/02/fpt-telecom-chi-g...  \n",
      "2  https://vietstock.vn/2025/02/cuoc-dua-loi-nhua...  \n",
      "3  https://vietstock.vn/2025/02/vn-index-tien-sat...  \n",
      "4  https://vietstock.vn/2025/02/theo-dau-dong-tie...  \n"
     ]
    }
   ],
   "source": [
    "# Close the browser\n",
    "driver.quit()\n",
    "\n",
    "# Save data to CSV\n",
    "vietstock = pd.DataFrame(news_data, columns = [\"date\", \"headline\", \"link\"])\n",
    "vietstock.to_csv(\"VietStock.csv\", index = False)\n",
    "\n",
    "print(vietstock.head())"
   ]
  },
  {
   "cell_type": "code",
   "execution_count": 9,
   "id": "7542b711-831a-4fcb-b7c5-798b7cf9b8ed",
   "metadata": {},
   "outputs": [
    {
     "name": "stdout",
     "output_type": "stream",
     "text": [
      "         date                                           headline  \\\n",
      "0  2025-03-04  Phân tích kỹ thuật phiên chiều 04/03: Áp lực b...   \n",
      "30 2025-03-04  Quỹ đầu tư của \"cá mập\" Shark Tank muốn xây tr...   \n",
      "33 2025-03-04  Chuyên gia chỉ rõ sự thật về đồng Pi, không hi...   \n",
      "32 2025-03-04  Ông Trump sẽ áp thuế nông sản, kêu gọi nông dâ...   \n",
      "31 2025-03-04  Kịch bản thao túng tâm lý, dẫn dụ con mồi tự n...   \n",
      "..        ...                                                ...   \n",
      "25        NaT  Chủ tịch FPT Trương Gia Bình hát Tái sinh giữa...   \n",
      "26        NaT  Cơn bão DeepSeek càn quét cổ phiếu công nghệ: ...   \n",
      "27        NaT   FPT: Báo cáo tình hình quản trị công ty năm 2024   \n",
      "28        NaT  Doanh nhân Đỗ Cao Bảo kể về hành trình trở thà...   \n",
      "29        NaT  Tổng giám đốc FPT: 10 năm chuẩn bị cho giấc mơ...   \n",
      "\n",
      "                                                 link  \n",
      "0   https://vietstock.vn/2025/03/phan-tich-ky-thua...  \n",
      "30  https://vietstock.vn/2025/03/quy-dau-tu-cua-ca...  \n",
      "33  https://vietstock.vn/2025/03/chuyen-gia-chi-ro...  \n",
      "32  https://vietstock.vn/2025/03/ong-trump-se-ap-t...  \n",
      "31  https://vietstock.vn/2025/03/kich-ban-thao-tun...  \n",
      "..                                                ...  \n",
      "25  https://cafef.vn/chu-tich-fpt-truong-gia-binh-...  \n",
      "26  https://cafef.vn/con-bao-deepseek-can-quet-co-...  \n",
      "27  https://cafef.vn/du-lieu/FPT-2134900/fpt-bao-c...  \n",
      "28  https://cafef.vn/doanh-nhan-do-cao-bao-ke-ve-h...  \n",
      "29  https://cafef.vn/tong-giam-doc-fpt-10-nam-chua...  \n",
      "\n",
      "[85 rows x 3 columns]\n"
     ]
    }
   ],
   "source": [
    "# Load datasets\n",
    "vietstock_df = pd.read_csv(\"VietStock.csv\")\n",
    "cafe = pd.read_csv(\"cafe.csv\")\n",
    "\n",
    "# Merge both datasets\n",
    "merge = pd.concat([vietstock_df, cafe], ignore_index = False)\n",
    "\n",
    "# Convert date columns to datetime format for sorting\n",
    "merge[\"date\"] = pd.to_datetime(merge[\"date\"], format = \"%d/%m/%Y\", errors = \"coerce\")\n",
    "\n",
    "# Sort by date (latest first)\n",
    "merge = merge.sort_values(by = \"date\", ascending = False)\n",
    "\n",
    "merge.to_csv(\"News.csv\", index = False)\n",
    "\n",
    "print(merge)"
   ]
  },
  {
   "cell_type": "code",
   "execution_count": 11,
   "id": "9ea576fa-2c40-4940-964d-3b69012f0e8a",
   "metadata": {},
   "outputs": [],
   "source": [
    "from vaderSentiment.vaderSentiment import SentimentIntensityAnalyzer\n",
    "from pyvi import ViTokenizer, ViPosTagger"
   ]
  },
  {
   "cell_type": "code",
   "execution_count": 12,
   "id": "bbc174b2-72de-4e5b-b570-881323210186",
   "metadata": {},
   "outputs": [],
   "source": [
    "df = merge"
   ]
  },
  {
   "cell_type": "code",
   "execution_count": 14,
   "id": "b701d1f5-8167-4f77-9f1f-36bdada169ac",
   "metadata": {},
   "outputs": [],
   "source": [
    "analyzer = SentimentIntensityAnalyzer()"
   ]
  },
  {
   "cell_type": "code",
   "execution_count": 15,
   "id": "1dbd8525-494a-4cea-99e7-1e4aea1f98b0",
   "metadata": {},
   "outputs": [],
   "source": [
    "def get_sentiment_vader(text):\n",
    "    score = analyzer.polarity_scores(text)[\"compound\"]\n",
    "    return \"Positive\" if score > 0.05 else \"Negative\" if score < -0.05 else \"Neutral\"\n",
    "\n",
    "def preprocess_vietnamese(text):\n",
    "    return ViTokenizer.tokenize(text)"
   ]
  },
  {
   "cell_type": "code",
   "execution_count": 16,
   "id": "2735150c-fc30-43b8-ae2c-8e990647e3ad",
   "metadata": {},
   "outputs": [],
   "source": [
    "df[\"headline\"] = df[\"headline\"].astype(str)\n",
    "df[\"headline_processed\"] = df[\"headline\"].apply(preprocess_vietnamese)\n",
    "df[\"sentiment\"] = df[\"headline_processed\"].apply(get_sentiment_vader)"
   ]
  },
  {
   "cell_type": "code",
   "execution_count": 21,
   "id": "a3eb8c64-2d5e-4fdd-a81b-a2eb7717d7f0",
   "metadata": {},
   "outputs": [],
   "source": [
    "df.to_csv(\"news_sentiment.csv\", encoding = \"utf-8\", index = False)"
   ]
  },
  {
   "cell_type": "code",
   "execution_count": 27,
   "id": "5569f3b6-eb54-424d-ac3e-d763c169bf20",
   "metadata": {},
   "outputs": [
    {
     "name": "stdout",
     "output_type": "stream",
     "text": [
      "['Neutral' 'Positive']\n"
     ]
    }
   ],
   "source": [
    "print(df[\"sentiment\"].unique())"
   ]
  },
  {
   "cell_type": "code",
   "execution_count": null,
   "id": "c2974567-f294-4d14-94c7-f7772e4270d3",
   "metadata": {},
   "outputs": [],
   "source": [
    "stock = pd.read_csv(\"FPT Corp Stock Price History.csv\")"
   ]
  },
  {
   "cell_type": "code",
   "execution_count": null,
   "id": "2b2137b3-a16a-4c6a-a781-251eeb9955f9",
   "metadata": {},
   "outputs": [],
   "source": []
  },
  {
   "cell_type": "code",
   "execution_count": null,
   "id": "1ffe6e7f-42e4-4b2a-9780-8826c0df68f7",
   "metadata": {},
   "outputs": [],
   "source": []
  }
 ],
 "metadata": {
  "kernelspec": {
   "display_name": "Python 3 (ipykernel)",
   "language": "python",
   "name": "python3"
  },
  "language_info": {
   "codemirror_mode": {
    "name": "ipython",
    "version": 3
   },
   "file_extension": ".py",
   "mimetype": "text/x-python",
   "name": "python",
   "nbconvert_exporter": "python",
   "pygments_lexer": "ipython3",
   "version": "3.12.3"
  }
 },
 "nbformat": 4,
 "nbformat_minor": 5
}
