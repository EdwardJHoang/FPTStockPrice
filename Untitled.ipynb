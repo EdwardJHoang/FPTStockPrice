{
 "cells": [
  {
   "cell_type": "code",
   "execution_count": 1,
   "id": "1daf72ba-e8be-41c2-b1b7-d6e658176646",
   "metadata": {},
   "outputs": [
    {
     "name": "stdout",
     "output_type": "stream",
     "text": [
      "Collecting vaderSentiment\n",
      "  Downloading vaderSentiment-3.3.2-py2.py3-none-any.whl.metadata (572 bytes)\n",
      "Collecting pyvi\n",
      "  Downloading pyvi-0.1.1-py2.py3-none-any.whl.metadata (2.5 kB)\n",
      "Requirement already satisfied: pandas in c:\\users\\nghia\\anaconda3\\lib\\site-packages (2.2.2)\n",
      "Requirement already satisfied: requests in c:\\users\\nghia\\anaconda3\\lib\\site-packages (from vaderSentiment) (2.32.3)\n",
      "Requirement already satisfied: scikit-learn in c:\\users\\nghia\\anaconda3\\lib\\site-packages (from pyvi) (1.5.1)\n",
      "Collecting sklearn-crfsuite (from pyvi)\n",
      "  Downloading sklearn_crfsuite-0.5.0-py2.py3-none-any.whl.metadata (4.9 kB)\n",
      "Requirement already satisfied: numpy>=1.26.0 in c:\\users\\nghia\\anaconda3\\lib\\site-packages (from pandas) (1.26.4)\n",
      "Requirement already satisfied: python-dateutil>=2.8.2 in c:\\users\\nghia\\anaconda3\\lib\\site-packages (from pandas) (2.9.0.post0)\n",
      "Requirement already satisfied: pytz>=2020.1 in c:\\users\\nghia\\anaconda3\\lib\\site-packages (from pandas) (2024.1)\n",
      "Requirement already satisfied: tzdata>=2022.7 in c:\\users\\nghia\\anaconda3\\lib\\site-packages (from pandas) (2023.3)\n",
      "Requirement already satisfied: six>=1.5 in c:\\users\\nghia\\anaconda3\\lib\\site-packages (from python-dateutil>=2.8.2->pandas) (1.16.0)\n",
      "Requirement already satisfied: charset-normalizer<4,>=2 in c:\\users\\nghia\\anaconda3\\lib\\site-packages (from requests->vaderSentiment) (3.3.2)\n",
      "Requirement already satisfied: idna<4,>=2.5 in c:\\users\\nghia\\anaconda3\\lib\\site-packages (from requests->vaderSentiment) (3.7)\n",
      "Requirement already satisfied: urllib3<3,>=1.21.1 in c:\\users\\nghia\\anaconda3\\lib\\site-packages (from requests->vaderSentiment) (2.2.2)\n",
      "Requirement already satisfied: certifi>=2017.4.17 in c:\\users\\nghia\\anaconda3\\lib\\site-packages (from requests->vaderSentiment) (2024.8.30)\n",
      "Requirement already satisfied: scipy>=1.6.0 in c:\\users\\nghia\\anaconda3\\lib\\site-packages (from scikit-learn->pyvi) (1.13.1)\n",
      "Requirement already satisfied: joblib>=1.2.0 in c:\\users\\nghia\\anaconda3\\lib\\site-packages (from scikit-learn->pyvi) (1.4.2)\n",
      "Requirement already satisfied: threadpoolctl>=3.1.0 in c:\\users\\nghia\\anaconda3\\lib\\site-packages (from scikit-learn->pyvi) (3.5.0)\n",
      "Collecting python-crfsuite>=0.9.7 (from sklearn-crfsuite->pyvi)\n",
      "  Downloading python_crfsuite-0.9.11-cp312-cp312-win_amd64.whl.metadata (4.4 kB)\n",
      "Requirement already satisfied: tabulate>=0.4.2 in c:\\users\\nghia\\anaconda3\\lib\\site-packages (from sklearn-crfsuite->pyvi) (0.9.0)\n",
      "Requirement already satisfied: tqdm>=2.0 in c:\\users\\nghia\\anaconda3\\lib\\site-packages (from sklearn-crfsuite->pyvi) (4.66.5)\n",
      "Requirement already satisfied: colorama in c:\\users\\nghia\\anaconda3\\lib\\site-packages (from tqdm>=2.0->sklearn-crfsuite->pyvi) (0.4.6)\n",
      "Downloading vaderSentiment-3.3.2-py2.py3-none-any.whl (125 kB)\n",
      "Downloading pyvi-0.1.1-py2.py3-none-any.whl (8.5 MB)\n",
      "   ---------------------------------------- 0.0/8.5 MB ? eta -:--:--\n",
      "   ---------------------------------------- 0.0/8.5 MB ? eta -:--:--\n",
      "   - -------------------------------------- 0.3/8.5 MB ? eta -:--:--\n",
      "   -- ------------------------------------- 0.5/8.5 MB 1.0 MB/s eta 0:00:08\n",
      "   ---- ----------------------------------- 1.0/8.5 MB 1.5 MB/s eta 0:00:06\n",
      "   ------ --------------------------------- 1.3/8.5 MB 1.5 MB/s eta 0:00:05\n",
      "   -------- ------------------------------- 1.8/8.5 MB 1.7 MB/s eta 0:00:04\n",
      "   ----------- ---------------------------- 2.4/8.5 MB 1.8 MB/s eta 0:00:04\n",
      "   ------------- -------------------------- 2.9/8.5 MB 1.9 MB/s eta 0:00:03\n",
      "   ---------------- ----------------------- 3.4/8.5 MB 1.9 MB/s eta 0:00:03\n",
      "   ------------------ --------------------- 3.9/8.5 MB 2.0 MB/s eta 0:00:03\n",
      "   --------------------- ------------------ 4.5/8.5 MB 2.1 MB/s eta 0:00:02\n",
      "   ----------------------- ---------------- 5.0/8.5 MB 2.1 MB/s eta 0:00:02\n",
      "   -------------------------- ------------- 5.5/8.5 MB 2.1 MB/s eta 0:00:02\n",
      "   ---------------------------- ----------- 6.0/8.5 MB 2.1 MB/s eta 0:00:02\n",
      "   ------------------------------- -------- 6.6/8.5 MB 2.2 MB/s eta 0:00:01\n",
      "   --------------------------------- ------ 7.1/8.5 MB 2.2 MB/s eta 0:00:01\n",
      "   ------------------------------------- -- 7.9/8.5 MB 2.3 MB/s eta 0:00:01\n",
      "   ---------------------------------------- 8.5/8.5 MB 2.3 MB/s eta 0:00:00\n",
      "Downloading sklearn_crfsuite-0.5.0-py2.py3-none-any.whl (10 kB)\n",
      "Downloading python_crfsuite-0.9.11-cp312-cp312-win_amd64.whl (301 kB)\n",
      "Installing collected packages: python-crfsuite, vaderSentiment, sklearn-crfsuite, pyvi\n",
      "Successfully installed python-crfsuite-0.9.11 pyvi-0.1.1 sklearn-crfsuite-0.5.0 vaderSentiment-3.3.2\n",
      "Note: you may need to restart the kernel to use updated packages.\n"
     ]
    }
   ],
   "source": [
    "pip install vaderSentiment pyvi pandas\n"
   ]
  },
  {
   "cell_type": "code",
   "execution_count": null,
   "id": "2a72157a-cc56-4faa-9e13-87464749b224",
   "metadata": {},
   "outputs": [],
   "source": []
  }
 ],
 "metadata": {
  "kernelspec": {
   "display_name": "Python 3 (ipykernel)",
   "language": "python",
   "name": "python3"
  },
  "language_info": {
   "codemirror_mode": {
    "name": "ipython",
    "version": 3
   },
   "file_extension": ".py",
   "mimetype": "text/x-python",
   "name": "python",
   "nbconvert_exporter": "python",
   "pygments_lexer": "ipython3",
   "version": "3.12.3"
  }
 },
 "nbformat": 4,
 "nbformat_minor": 5
}
