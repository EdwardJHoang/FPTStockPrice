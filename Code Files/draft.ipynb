{
 "cells": [
  {
   "cell_type": "code",
   "execution_count": 1,
   "metadata": {},
   "outputs": [],
   "source": [
    "import pandas as pd\n",
    "import numpy as np\n",
    "import matplotlib.pyplot as plt\n",
    "import time\n",
    "from scipy import stats\n",
    "\n",
    "import warnings\n",
    "warnings.filterwarnings(\"ignore\")"
   ]
  },
  {
   "cell_type": "code",
   "execution_count": 3,
   "metadata": {},
   "outputs": [
    {
     "name": "stdout",
     "output_type": "stream",
     "text": [
      "         Date      Price       Open       High        Low   Vol. Change %\n",
      "0  12/31/2024  152,500.0  150,700.0  153,900.0  150,300.0  3.60M    1.33%\n",
      "1  12/30/2024  150,500.0  149,400.0  150,800.0  148,500.0  1.98M    0.60%\n",
      "2  12/27/2024  149,600.0  149,500.0  149,900.0  148,700.0  2.56M   -0.13%\n",
      "3  12/26/2024  149,800.0  151,000.0  151,400.0  149,100.0  2.23M   -0.66%\n",
      "4  12/25/2024  150,800.0  150,600.0  151,200.0  150,400.0  2.51M    0.27%\n"
     ]
    }
   ],
   "source": [
    "# Import dataset, containing FPT historical stock price\n",
    "df = pd.read_csv(\"FPT Corp Stock Price History.csv\")\n",
    "\n",
    "# Display the dataset\n",
    "print(df.head())"
   ]
  },
  {
   "cell_type": "code",
   "execution_count": 4,
   "metadata": {},
   "outputs": [
    {
     "name": "stdout",
     "output_type": "stream",
     "text": [
      "<class 'pandas.core.frame.DataFrame'>\n",
      "RangeIndex: 998 entries, 0 to 997\n",
      "Data columns (total 7 columns):\n",
      " #   Column    Non-Null Count  Dtype \n",
      "---  ------    --------------  ----- \n",
      " 0   Date      998 non-null    object\n",
      " 1   Price     998 non-null    object\n",
      " 2   Open      998 non-null    object\n",
      " 3   High      998 non-null    object\n",
      " 4   Low       998 non-null    object\n",
      " 5   Vol.      998 non-null    object\n",
      " 6   Change %  998 non-null    object\n",
      "dtypes: object(7)\n",
      "memory usage: 54.7+ KB\n",
      "None\n"
     ]
    }
   ],
   "source": [
    "# Check data types\n",
    "print(df.info())"
   ]
  },
  {
   "cell_type": "code",
   "execution_count": 7,
   "metadata": {},
   "outputs": [],
   "source": [
    "# Convert \"Date\" to datetime format\n",
    "df[\"Date\"] = pd.to_datetime(df[\"Date\"])\n",
    "\n",
    "# Convert \"Price\", \"Open\", \"High\", \"Low\", \"Vol\" into float\n",
    "num_col = [\"Price\", \"Open\", \"High\", \"Low\"]\n",
    "df[num_col] = df[num_col].replace(\",\", \"\", regex=True).astype(float)\n",
    "\n",
    "# Convert Change% into decimal values\n",
    "df[\"Change %\"] = df[\"Change %\"].replace(\"%\", \"\", regex = True).astype(float)/100"
   ]
  },
  {
   "cell_type": "code",
   "execution_count": null,
   "metadata": {},
   "outputs": [],
   "source": []
  },
  {
   "cell_type": "code",
   "execution_count": null,
   "metadata": {},
   "outputs": [],
   "source": []
  },
  {
   "cell_type": "code",
   "execution_count": null,
   "metadata": {},
   "outputs": [],
   "source": []
  }
 ],
 "metadata": {
  "kernelspec": {
   "display_name": "base",
   "language": "python",
   "name": "python3"
  },
  "language_info": {
   "codemirror_mode": {
    "name": "ipython",
    "version": 3
   },
   "file_extension": ".py",
   "mimetype": "text/x-python",
   "name": "python",
   "nbconvert_exporter": "python",
   "pygments_lexer": "ipython3",
   "version": "3.12.3"
  }
 },
 "nbformat": 4,
 "nbformat_minor": 2
}
